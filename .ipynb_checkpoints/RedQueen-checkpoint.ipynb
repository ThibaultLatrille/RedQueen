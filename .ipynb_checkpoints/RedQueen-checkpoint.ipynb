{
 "cells": [
  {
   "cell_type": "markdown",
   "metadata": {},
   "source": [
    "$N_\\mathrm{e}$ is the population size\n",
    "\n",
    "$u$  is the mutation rate of PRDM9\n",
    "\n",
    "$v$  is the mutation rate at the hotspots\n",
    "\n",
    "$r_0$  is the recombination rate\n",
    "\n",
    "$K$  is the number of PRDM9 alleles\n",
    "\n",
    "$n_i$ $(1 \\leq i \\leq K)$   is the number of individual carrying the $i^{th}$ PRDM9 allele\n",
    "\n",
    "$x_i = n_i / n$ is the frequency of the $i^{th}$ PRDM9 allele\n",
    "\n",
    "$L_i$ is the erosion of the target of the $i^{th}$ PRDM9 allele \n",
    "\n",
    "$\\bar{\\omega_i}$ is the fitness of the $i^{th}$ PRDM9 allele\n",
    "\n",
    "$\\bar{\\omega}$ is the mean fitness\n"
   ]
  },
  {
   "cell_type": "code",
   "execution_count": null,
   "metadata": {
    "collapsed": true
   },
   "outputs": [],
   "source": []
  }
 ],
 "metadata": {
  "kernelspec": {
   "display_name": "Python 2",
   "language": "python",
   "name": "python2"
  },
  "language_info": {
   "codemirror_mode": {
    "name": "ipython",
    "version": 2
   },
   "file_extension": ".py",
   "mimetype": "text/x-python",
   "name": "python",
   "nbconvert_exporter": "python",
   "pygments_lexer": "ipython2",
   "version": "2.7.11"
  }
 },
 "nbformat": 4,
 "nbformat_minor": 0
}
