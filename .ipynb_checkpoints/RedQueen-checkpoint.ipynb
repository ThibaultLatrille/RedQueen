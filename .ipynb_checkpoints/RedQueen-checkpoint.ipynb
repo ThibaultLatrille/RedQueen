{
 "cells": [
  {
   "cell_type": "markdown",
   "metadata": {},
   "source": [
    "# PRDM9, the red queen in the kingdom of recombination\n",
    "\n",
    "### Laboratoire de biomètrie et de biologie Evolutive (LBBE), Lyon, France\n",
    "\n"
   ]
  },
  {
   "cell_type": "markdown",
   "metadata": {},
   "source": [
    "*The GitHub repository hosting this paper is available [**here**](https://github.com/ThibaultLatrille/RedQueen).*"
   ]
  },
  {
   "cell_type": "markdown",
   "metadata": {},
   "source": [
    "## Introduction"
   ]
  },
  {
   "cell_type": "markdown",
   "metadata": {},
   "source": [
    "PRDM9 is a meiosis-specific histone methyltransferase with a tandem-repeat zinc finger (ZnF) domain encoded by a minisatellite-like sequence. The ZnF domain is polymorphic in repeat number and type, and appears to be directly responsible for activating hotspots by binding to hotspot-associated sequence motifs in both humans and mice.\n",
    "\n",
    "Hotspots evolve rapidly, as shown by the totally different fine-scale recombination landscapes of humans and chimpanzees.\n",
    "Turnover might be driven by the tendency of hotspots to self-destruct through the systematic overtransmission of variants within hotspots that downregulate recombination initiation, leading to hotspot depletion and consequent selection in favor of PRDM9 variants that activate new sets of hotspots."
   ]
  },
  {
   "cell_type": "markdown",
   "metadata": {},
   "source": [
    "![The red queen in the kingdom of recombination](Images/RedQueen.png)"
   ]
  },
  {
   "cell_type": "markdown",
   "metadata": {},
   "source": [
    "## Definition"
   ]
  },
  {
   "cell_type": "markdown",
   "metadata": {},
   "source": [
    "We derived a mathematic population genetic model, implemented numerically by monte carlo simulations.\n",
    "\n",
    "The population is composed of $N_\\mathrm{e}$ diploid indivuals, kept constant over time.\n",
    "\n",
    "The locus PRDM9 mutates at constant rate $u$ per generation per locus and each new variant binds a new sets of sequence targets. Thus $u$ can be understood as a fonctionnal mutation rate, with each mutation producing a new PRDM9 variant with new hotspots.\n",
    "The sequence targets of PRDM9 mutates at constant rate $v$ per generation. The sequence targets recombine at constant rate $r_0$ per generation. The recombination at the sequence target is favored by the binding of PRDM9.\n",
    "\n",
    "At each generation, $K$ is the number of PRDM9 variants in the population. $\\forall i \\in \\{ 1, \\, \\dots, \\, K \\}$, $n_i$ is the number of $i^{th}$ PRDM9 variant in the population. Consequently, $x_i = n_i / 2 N_\\mathrm{e}$ is the frequency of the $i^{th}$ PRDM9 variant.\n",
    "For each variant, $L_i$ is the overall erosion of the sequence targets, with $L_i=1$ meaning no erosion and $L_i=0$ meaning totally eroded. $\\bar{\\omega_i}$ is fitness of this variant. At the population level, $\\bar{\\omega}=\\sum_{i} x_i \\bar{\\omega_i}$ is the mean fitness.\n"
   ]
  },
  {
   "cell_type": "markdown",
   "metadata": {},
   "source": [
    "We propose $\\bar{\\omega_i}=\\sum_j x_j f \\left( \\tfrac{L_i + L_j}{2} \\right)$, for any function $f\\colon [0,1] \\rightarrow \\mathbb{R}^+$. Meaning the fitness of variant $i$ is the sum over the probabililies that the second variant is $j$ (diploid individuals) time a function of the mean erosion between variant $i$ and $j$. Thus we assume the variants interact linearly."
   ]
  },
  {
   "cell_type": "markdown",
   "metadata": {},
   "source": [
    "## Discret stochastic modeling of the red queen"
   ]
  },
  {
   "cell_type": "markdown",
   "metadata": {},
   "source": [
    "We consider that PRDM9 is activating it's target in *trans*, meaning there is no linkage between the locus of PRDM9 and any of the target. In our simulation, we keep track of the number of PRDM9 variants $K$, the number of individuals belonging to each variant of PRDM9 ($n_i$). For each variant we keep track the overall erosion of it's targets in the population ($L_i$).\n",
    "\n",
    "For each new generation, the simulation is decomposed in three steps, computed in the following order: \n",
    "\n",
    "1. Creation of new variants of PRDM9\n",
    "2. Erosion of the hotspots\n",
    "3. Drift and selection"
   ]
  },
  {
   "cell_type": "markdown",
   "metadata": {},
   "source": [
    "### 1. Mutation and creation of new variants"
   ]
  },
  {
   "cell_type": "markdown",
   "metadata": {},
   "source": [
    "Per locus, PRDM9 mutates at constant rate $u$, and we have $2 N_\\mathrm{e}$ loci in the population. Thus the number of new variants is Poission distributed with mean $2 N_\\mathrm{e} u$. the new variants are introduced in the population at a frequency $1 / 2 N_\\mathrm{e}$\n",
    "\n",
    "\\begin{equation}\n",
    "  K(t+1) - K(t) \\sim \\operatorname{Pois} \\left(2 N_\\mathrm{e} u \\right)\n",
    "\\end{equation}\n"
   ]
  },
  {
   "cell_type": "markdown",
   "metadata": {},
   "source": [
    "### 2. Erosion of the hotspots"
   ]
  },
  {
   "cell_type": "markdown",
   "metadata": {},
   "source": [
    "PRDM9 activates it's targets in *trans*. The number of new mutation occuring in the population at the targets is $2 N_\\mathrm{e} v$, each of them are driven by a selection coefficient $2 r _0  x_i$, where $x_i$ is the probabity of activation by the variant $i$.\n",
    "Since the strenght of erosion is proportionnal to the targets being not eroded, we model the erosion as an exponential decay.\n",
    "\n",
    "\\begin{equation}\n",
    " L_i (t+1) =  L_i (t)\\operatorname{exp} \\left( - 2 N_\\mathrm{e} v\n",
    " \\dfrac{1 - \\operatorname{e}^{2 r _0  x_i}}{1 - \\operatorname{e}^{4 N_\\mathrm{e} r _0  x_i}} \\right), \\;\n",
    " \\forall i \\in \\{ 1, \\, \\dots, \\, K \\}\n",
    "\\end{equation}"
   ]
  },
  {
   "cell_type": "markdown",
   "metadata": {},
   "source": [
    "### 3. Drift and selection"
   ]
  },
  {
   "cell_type": "markdown",
   "metadata": {},
   "source": [
    "The new generation of $2 N_\\mathrm{e}$ PRDM9 alleles is drawn from a multinomial distribution, generating a drift. The probability of drawing variant $i$ is equal to it's frequency $x_i$ time it's relative fitness  $\\tfrac{\\bar{\\omega_i}}{\\bar{\\omega}}$. The probabilities sum to $1$ by definition of $\\bar{\\omega}$.\n",
    "\n",
    "\\begin{equation}\n",
    "  \\left(\n",
    "  n_1(t+1), \\,\n",
    "  \\dots, \\,\n",
    "  n_i(t+1), \\,\n",
    "  \\dots, \\,\n",
    "  n_{N_\\mathrm{e}}(t+1)\n",
    "  \\right)\n",
    "  \\sim \\operatorname{Multinomial} \\left(2 N_\\mathrm{e}, \\,\n",
    "  \\dfrac{x_1  \\bar{\\omega_1}}{\\bar{\\omega}}, \\,\n",
    "  \\dots, \\,\n",
    "  \\dfrac{x_i  \\bar{\\omega_i}}{\\bar{\\omega}}, \\,\n",
    "  \\dots, \\,\n",
    "  \\dfrac{x_{N_\\mathrm{e}} \\bar{\\omega_{N_\\mathrm{e}}}}{\\bar{\\omega}}\n",
    "  \\right)\n",
    "\\end{equation}\n"
   ]
  },
  {
   "cell_type": "markdown",
   "metadata": {},
   "source": [
    "## Continuous stochastic modeling of the red queen"
   ]
  },
  {
   "cell_type": "markdown",
   "metadata": {},
   "source": [
    "We also derived a set of equation for a model with continuous time, with time scaled such that $2 N_\\mathrm{e}\\mathrm{d}t=1$.\n",
    "\n",
    "Let\n",
    "\n",
    "$\\bullet \\; \\mu=2 N_\\mathrm{e} u$\n",
    "\n",
    "$\\bullet \\; \\nu=2 N_\\mathrm{e} v$\n",
    "\n",
    "$\\bullet \\; \\rho_0=4 N_\\mathrm{e} r_0$\n",
    "\n",
    "$\\bullet \\; f=f^{\\alpha}$\n",
    "\n",
    "$\\bullet \\; \\alpha=\\alpha_0 / 2N_\\mathrm{e}$\n",
    "\n",
    "$\\bullet \\; \\bar{L}=\\sum_i x_i L_i$"
   ]
  },
  {
   "cell_type": "markdown",
   "metadata": {},
   "source": [
    "\\begin{equation}\n",
    "  \\left\\{\n",
    "      \\begin{aligned}\n",
    "        \\dfrac{\\mathrm{d}L_i}{\\mathrm{d}t} &= \n",
    "        - \\nu \\dfrac{\\rho_0 x_i}{1 - \\operatorname{e}^{\\rho_0  x_i}}L_i, \\;\n",
    "             \\forall i \\in \\{ 1, \\, \\dots, \\, K \\} \\\\\n",
    "        \\dfrac{\\mathrm{d}x_i}{\\mathrm{d}t} &= \\alpha_0 \\dfrac{f'(\\bar{L})}{f(\\bar{L})} \\left[ \\tfrac{L_i - \\bar{L}}{2} \\right]x_i , \\;\n",
    "         \\forall i \\in \\{ 1, \\, \\dots, \\, K \\}\\\\\n",
    "        \\dfrac{\\mathrm{d}K}{\\mathrm{d}t} &=\n",
    "        \\mu \\alpha_0 \\dfrac{f'(\\bar{L})}{f(\\bar{L})} [1 - \\bar{L} ] \\\\\n",
    "      \\end{aligned}\n",
    "    \\right.\n",
    "\\end{equation}"
   ]
  },
  {
   "cell_type": "markdown",
   "metadata": {},
   "source": [
    "## Appendix 1. Linearization of the fitness"
   ]
  },
  {
   "cell_type": "markdown",
   "metadata": {},
   "source": [
    "Let us denote $\\bar{L}=\\sum_i x_i L_i$, one can use a Taylor approximation to linearize the fitness function.  \n",
    "\n",
    "\\begin{equation}\n",
    "  \\begin{aligned}\n",
    "    \\bar{\\omega_i} - f(\\bar{L}) &=\n",
    "    \\sum_j x_j f \\left( \\tfrac{L_i + L_j}{2} \\right) - \\sum_j x_j f(\\bar{L}) \\\\\n",
    "    &=\n",
    "    \\sum_j x_j  \\left[ f \\left( \\tfrac{L_i + L_j}{2} \\right) - f(\\bar{L}) \\right] \\\\\n",
    "    &\\simeq\n",
    "    \\sum_j x_j  f'(\\bar{L}) \\left( \\tfrac{L_i + L_j}{2} - \\bar{L} \\right) \\\\\n",
    "    &\\simeq\n",
    "     f'(\\bar{L}) \\left( \\tfrac{L_i + \\sum_j x_j L_j}{2} - \\bar{L} \\right) \\\\\n",
    "     &\\simeq\n",
    "     f'(\\bar{L}) \\left( \\tfrac{L_i - \\bar{L}}{2}\\right) \\\\\n",
    "  \\end{aligned}\n",
    "\\end{equation}"
   ]
  },
  {
   "cell_type": "markdown",
   "metadata": {},
   "source": [
    "Consequently $\\bar{\\omega} = f(\\bar{L})$. *Proof*,\n",
    "\n",
    "\\begin{equation}\n",
    "  \\begin{aligned}\n",
    "    \\bar{\\omega} - f(\\bar{L}) &=\n",
    "    \\sum_i x_i (\\bar{\\omega_i} - f(\\bar{L}) ) \\\\\n",
    "    &\\simeq\n",
    "    \\sum_i x_i \\,  f'(\\bar{L}) \\left( \\tfrac{L_i - \\bar{L}}{2}\\right) \\\\\n",
    "    &\\simeq\n",
    "     f'(\\bar{L}) \\left( \\tfrac{\\sum_i x_i L_i - \\bar{L}}{2}\\right) \\\\\n",
    "    &\\simeq\n",
    "     0\n",
    "  \\end{aligned}\n",
    "\\end{equation}"
   ]
  },
  {
   "cell_type": "markdown",
   "metadata": {},
   "source": [
    "And the selection coefficient $s_i$ for the variant $i$ can be easily computed  \n",
    "\n",
    "\\begin{equation}\n",
    "    s_i = \\dfrac{\\bar{\\omega_i} - \\bar{\\omega}}{\\bar{\\omega}}\n",
    "    \\simeq \\dfrac{f'(\\bar{L})}{2f(\\bar{L})} [ L_i - \\bar{L} ] \n",
    "\\end{equation}"
   ]
  },
  {
   "cell_type": "markdown",
   "metadata": {},
   "source": [
    "## Appendix 2. Linearization of the power fitness"
   ]
  },
  {
   "cell_type": "markdown",
   "metadata": {},
   "source": [
    "Let us denote $\\bar{L}=\\sum_i x_i L_i$. \n",
    "\n",
    "\\begin{equation}\n",
    "  \\begin{aligned}\n",
    "    \\bar{\\omega_i} - f^{\\alpha}(\\bar{L}) &=\n",
    "    \\sum_j x_j f^{\\alpha} \\left( \\tfrac{L_i + L_j}{2} \\right) - \\sum_j x_j f^{\\alpha}(\\bar{L}) \\\\\n",
    "    &=\n",
    "    \\sum_j x_j  \\left[ f^{\\alpha} \\left( \\tfrac{L_i + L_j}{2} \\right) - f^{\\alpha}(\\bar{L}) \\right] \\\\\n",
    "    &\\simeq\n",
    "    \\sum_j  x_j \\, \\alpha  f'(\\bar{L}) f^{\\alpha-1}(\\bar{L}) \\left( \\tfrac{L_i + L_j}{2} - \\bar{L} \\right) \\\\\n",
    "    &\\simeq\n",
    "    \\alpha f^{\\alpha-1}(\\bar{L}) f'(\\bar{L}) \\left( \\tfrac{L_i + \\sum_j x_j L_j}{2} - \\bar{L} \\right) \\\\\n",
    "     &\\simeq\n",
    "    \\alpha f^{\\alpha-1}(\\bar{L}) f'(\\bar{L}) \\left( \\tfrac{L_i - \\bar{L}}{2}\\right) \\\\\n",
    "  \\end{aligned}\n",
    "\\end{equation}"
   ]
  },
  {
   "cell_type": "markdown",
   "metadata": {},
   "source": [
    "Consequently $\\bar{\\omega} = f(\\bar{L})$. *Proof*,\n",
    "\n",
    "\\begin{equation}\n",
    "  \\begin{aligned}\n",
    "    \\bar{\\omega} - f^{\\alpha}(\\bar{L}) &=\n",
    "    \\sum_i x_i (\\bar{\\omega_i} - f^{\\alpha}(\\bar{L}) ) \\\\\n",
    "    &\\simeq\n",
    "    \\sum_i x_i \\, \\alpha f^{\\alpha-1}(\\bar{L}) f'(\\bar{L}) \\left( \\tfrac{L_i - \\bar{L}}{2}\\right) \\\\\n",
    "    &\\simeq\n",
    "    \\alpha f^{\\alpha-1}(\\bar{L}) f'(\\bar{L}) \\left( \\tfrac{\\sum_i x_i L_i - \\bar{L}}{2}\\right) \\\\\n",
    "    &\\simeq\n",
    "     0\n",
    "  \\end{aligned}\n",
    "\\end{equation}"
   ]
  },
  {
   "cell_type": "markdown",
   "metadata": {},
   "source": [
    "And the selection coefficient $s_i$ for the variant $i$ can be easily computed  \n",
    "\n",
    "\\begin{equation}\n",
    "    s_i = \\dfrac{\\bar{\\omega_i} - \\bar{\\omega}}{\\bar{\\omega}}\n",
    "    \\simeq \\alpha \\dfrac{f'(\\bar{L})}{2f(\\bar{L})} [ L_i - \\bar{L} ] \n",
    "\\end{equation}"
   ]
  },
  {
   "cell_type": "markdown",
   "metadata": {},
   "source": [
    "*Notes* : \n",
    "* Fitness -> sigmoid\n",
    "\n",
    "* Taux de renouvellement \n",
    "\n",
    "* Semi determniste"
   ]
  }
 ],
 "metadata": {
  "kernelspec": {
   "display_name": "Python 2",
   "language": "python",
   "name": "python2"
  },
  "language_info": {
   "codemirror_mode": {
    "name": "ipython",
    "version": 2
   },
   "file_extension": ".py",
   "mimetype": "text/x-python",
   "name": "python",
   "nbconvert_exporter": "python",
   "pygments_lexer": "ipython2",
   "version": "2.7.10"
  }
 },
 "nbformat": 4,
 "nbformat_minor": 0
}
