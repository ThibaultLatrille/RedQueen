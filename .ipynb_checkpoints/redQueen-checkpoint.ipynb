{
 "cells": [
  {
   "cell_type": "markdown",
   "metadata": {},
   "source": [
    "$N_\\mathrm{e}$ is the population size\n",
    "\n",
    "$u $  is the mutation rate of PRDM9\n",
    "\n",
    "$ \\bullet v $  is the mutation rate at the hotspots\n",
    "\n",
    "$ \\bullet r_0 $  is the recombination rate\n",
    "\n",
    "$ \\bullet K $  is the number of PRDM9 alleles\n",
    "\n",
    "$ \\bullet n_i $ $(1 \\leq i \\leq K)$   is the number of individual carrying the $i^{th}$ PRDM9 allele\n",
    "\n",
    "$ \\bullet x_i = n_i / n $ is the frequency of the $i^{th}$ PRDM9 allele\n",
    "\n",
    "$ \\bullet L_i $ is the erosion of the target of the $i^{th}$ PRDM9 allele \n",
    "\n",
    "$ \\bullet \\bar{\\omega_i} $ is the fitness of the $i^{th}$ PRDM9 allele\n",
    "\n",
    "$ \\bullet \\bar{\\omega} $ is the mean fitness\n"
   ]
  },
  {
   "cell_type": "markdown",
   "metadata": {},
   "source": [
    "%%latex\n",
    "\\begin{align}\n",
    "\\nabla \\times \\vec{\\mathbf{B}} -\\, \\frac1c\\, \\frac{\\partial\\vec{\\mathbf{E}}}{\\partial t} & = \\frac{4\\pi}{c}\\vec{\\mathbf{j}} \\\\\n",
    "\\nabla \\cdot \\vec{\\mathbf{E}} & = 4 \\pi \\rho \\\\\n",
    "\\nabla \\times \\vec{\\mathbf{E}}\\, +\\, \\frac1c\\, \\frac{\\partial\\vec{\\mathbf{B}}}{\\partial t} & = \\vec{\\mathbf{0}} \\\\\n",
    "\\nabla \\cdot \\vec{\\mathbf{B}} & = 0\n",
    "\\end{align}\n"
   ]
  },
  {
   "cell_type": "markdown",
   "metadata": {},
   "source": [
    "# Blablabla"
   ]
  },
  {
   "cell_type": "code",
   "execution_count": null,
   "metadata": {
    "collapsed": true
   },
   "outputs": [],
   "source": [
    "print 3 + 4"
   ]
  },
  {
   "cell_type": "code",
   "execution_count": null,
   "metadata": {
    "collapsed": true
   },
   "outputs": [],
   "source": []
  }
 ],
 "metadata": {
  "celltoolbar": "Raw Cell Format",
  "kernelspec": {
   "display_name": "Python 2",
   "language": "python",
   "name": "python2"
  },
  "language_info": {
   "codemirror_mode": {
    "name": "ipython",
    "version": 2
   },
   "file_extension": ".py",
   "mimetype": "text/x-python",
   "name": "python",
   "nbconvert_exporter": "python",
   "pygments_lexer": "ipython2",
   "version": "2.7.11"
  }
 },
 "nbformat": 4,
 "nbformat_minor": 0
}
